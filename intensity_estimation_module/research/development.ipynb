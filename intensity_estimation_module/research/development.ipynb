{
 "cells": [
  {
   "cell_type": "code",
   "execution_count": null,
   "metadata": {},
   "outputs": [],
   "source": [
    "from sklearn.preprocessing import MinMaxScaler\n",
    "import numpy as np\n",
    "\n",
    "# Example array with negative values\n",
    "original_data = np.array([[-2, 5, -8],\n",
    "                         [4, -3, 6],\n",
    "                         [7, 2, -4]])\n",
    "\n",
    "# Create MinMaxScaler\n",
    "scaler = MinMaxScaler(feature_range=(0, 1))\n",
    "\n",
    "# Fit and transform the data\n",
    "normalized_data = scaler.fit_transform(original_data)\n",
    "\n",
    "print(\"Original data:\\n\", original_data)\n",
    "print(\"\\nNormalized data using MinMaxScaler:\\n\", normalized_data)\n"
   ]
  }
 ],
 "metadata": {
  "language_info": {
   "name": "python"
  }
 },
 "nbformat": 4,
 "nbformat_minor": 2
}
